{
 "cells": [
  {
   "cell_type": "code",
   "execution_count": 19,
   "id": "438bad4f",
   "metadata": {},
   "outputs": [],
   "source": [
    "#imports\n",
    "import psutil\n",
    "from subprocess import check_call"
   ]
  },
  {
   "cell_type": "code",
   "execution_count": 28,
   "id": "663f0d95",
   "metadata": {},
   "outputs": [
    {
     "name": "stdout",
     "output_type": "stream",
     "text": [
      "\n",
      " -  sdiskpart(device='/dev/nvme0n1p6', mountpoint='/', fstype='ext4', opts='rw,relatime,errors=remount-ro', maxfile=255, maxpath=4096)\n",
      "\n",
      " -  sdiskpart(device='/dev/nvme0n1p1', mountpoint='/boot/efi', fstype='vfat', opts='rw,relatime,fmask=0077,dmask=0077,codepage=437,iocharset=iso8859-1,shortname=mixed,errors=remount-ro', maxfile=1530, maxpath=4096)\n",
      "\n",
      " -  sdiskpart(device='/dev/nvme0n1p8', mountpoint='/home', fstype='ext4', opts='rw,relatime', maxfile=255, maxpath=4096)\n",
      "\n",
      " -  sdiskpart(device='/dev/nvme0n1p8', mountpoint='/run/timeshift/backup', fstype='ext4', opts='rw,relatime', maxfile=255, maxpath=4096)\n",
      "\n",
      " -  sdiskpart(device='/dev/sda1', mountpoint='/media/pasaunier/55AA-55AA', fstype='fuseblk', opts='rw,nosuid,nodev,relatime,user_id=0,group_id=0,default_permissions,allow_other,blksize=4096', maxfile=255, maxpath=4096)\n"
     ]
    }
   ],
   "source": [
    "for elem in psutil.disk_partitions(all=False):\n",
    "    print(\"\\n - \", elem)"
   ]
  },
  {
   "cell_type": "code",
   "execution_count": 31,
   "id": "702bcbb1",
   "metadata": {},
   "outputs": [],
   "source": [
    "#générer des backlists des disques à protéger :\n",
    "device_backlist = []\n",
    "mountpoint_blacklist = []\n",
    "fstype_blacklist = []\n",
    "\n",
    "for elem in psutil.disk_partitions(all=False):\n",
    "    device_backlist.append(elem.device)\n",
    "    mountpoint_blacklist.append(elem.mountpoint)\n",
    "    fstype_blacklist.append(elem.fstype)"
   ]
  },
  {
   "cell_type": "code",
   "execution_count": 32,
   "id": "213a994e",
   "metadata": {
    "scrolled": true
   },
   "outputs": [
    {
     "name": "stdout",
     "output_type": "stream",
     "text": [
      "['/dev/nvme0n1p6', '/dev/nvme0n1p1', '/dev/nvme0n1p8', '/dev/nvme0n1p8']\n",
      "['/', '/boot/efi', '/home', '/run/timeshift/backup']\n",
      "['ext4', 'vfat', 'ext4', 'ext4']\n"
     ]
    }
   ],
   "source": [
    "#blacklist des devices et mountpoints à ne jamais formatter \n",
    "# bien penser à les remplir avant de lancer :)\n",
    "print (device_backlist)\n",
    "print (mountpoint_blacklist)\n",
    "print (fstype_blacklist)\n",
    "\n",
    "\"\"\"\n",
    "Sur mon portable,\n",
    "les points de mount usb sont :\n",
    "/dev/sda1\n",
    "/dev/sdb1\n",
    "/dev/sdc1\n",
    "\"\"\""
   ]
  },
  {
   "cell_type": "code",
   "execution_count": 78,
   "id": "0a42b11b",
   "metadata": {},
   "outputs": [
    {
     "name": "stdout",
     "output_type": "stream",
     "text": [
      "FOUND : /dev/sda1 mounted on /media/pasaunier/55AA-55AA\n"
     ]
    }
   ],
   "source": [
    "import sys\n",
    "# lister les disques non blacklistés :\n",
    "if (len(device_backlist) < 3):\n",
    "    print(\"Device blacklist seems incomplete. Aborting to save your drives :)\")\n",
    "    sys.exit(1)\n",
    "    \n",
    "device_whitelist = [r\"/dev/sda1\", r\"/dev/sdb1\", r\"/dev/sdc1\"]\n",
    "    #securitad\n",
    "for elem in psutil.disk_partitions(all=False):\n",
    "    if (elem.device not in device_backlist) and (elem.device in device_whitelist):\n",
    "        if elem.mountpoint not in mountpoint_blacklist:\n",
    "                if elem.fstype not in fstype_blacklist:\n",
    "                    if (elem.fstype == \"fuseblk\"):\n",
    "                            print(f\"FOUND : {elem.device} mounted on {elem.mountpoint}\")"
   ]
  },
  {
   "cell_type": "code",
   "execution_count": 56,
   "id": "cf142568",
   "metadata": {},
   "outputs": [
    {
     "ename": "CalledProcessError",
     "evalue": "Command '['mkfs.vfat', '-F32', '/dev/sda1']' returned non-zero exit status 1.",
     "output_type": "error",
     "traceback": [
      "\u001b[0;31m---------------------------------------------------------------------------\u001b[0m",
      "\u001b[0;31mCalledProcessError\u001b[0m                        Traceback (most recent call last)",
      "\u001b[0;32m<ipython-input-56-8a196fa7504d>\u001b[0m in \u001b[0;36m<module>\u001b[0;34m\u001b[0m\n\u001b[1;32m      3\u001b[0m \u001b[0mmkfs\u001b[0m\u001b[0;34m.\u001b[0m\u001b[0mvfat\u001b[0m \u001b[0;34m-\u001b[0m\u001b[0mF32\u001b[0m \u001b[0;34m/\u001b[0m\u001b[0mdev\u001b[0m\u001b[0;34m/\u001b[0m\u001b[0msdb1\u001b[0m\u001b[0;34m\u001b[0m\u001b[0;34m\u001b[0m\u001b[0m\n\u001b[1;32m      4\u001b[0m \"\"\"\n\u001b[0;32m----> 5\u001b[0;31m \u001b[0mcheck_call\u001b[0m\u001b[0;34m(\u001b[0m\u001b[0;34m[\u001b[0m\u001b[0;34m\"mkfs.vfat\"\u001b[0m\u001b[0;34m,\u001b[0m \u001b[0;34m\"-F32\"\u001b[0m\u001b[0;34m,\u001b[0m \u001b[0;34m\"/dev/sda1\"\u001b[0m\u001b[0;34m]\u001b[0m\u001b[0;34m)\u001b[0m\u001b[0;34m\u001b[0m\u001b[0;34m\u001b[0m\u001b[0m\n\u001b[0m",
      "\u001b[0;32m~/anaconda3/envs/wcgw/lib/python3.9/subprocess.py\u001b[0m in \u001b[0;36mcheck_call\u001b[0;34m(*popenargs, **kwargs)\u001b[0m\n\u001b[1;32m    371\u001b[0m         \u001b[0;32mif\u001b[0m \u001b[0mcmd\u001b[0m \u001b[0;32mis\u001b[0m \u001b[0;32mNone\u001b[0m\u001b[0;34m:\u001b[0m\u001b[0;34m\u001b[0m\u001b[0;34m\u001b[0m\u001b[0m\n\u001b[1;32m    372\u001b[0m             \u001b[0mcmd\u001b[0m \u001b[0;34m=\u001b[0m \u001b[0mpopenargs\u001b[0m\u001b[0;34m[\u001b[0m\u001b[0;36m0\u001b[0m\u001b[0;34m]\u001b[0m\u001b[0;34m\u001b[0m\u001b[0;34m\u001b[0m\u001b[0m\n\u001b[0;32m--> 373\u001b[0;31m         \u001b[0;32mraise\u001b[0m \u001b[0mCalledProcessError\u001b[0m\u001b[0;34m(\u001b[0m\u001b[0mretcode\u001b[0m\u001b[0;34m,\u001b[0m \u001b[0mcmd\u001b[0m\u001b[0;34m)\u001b[0m\u001b[0;34m\u001b[0m\u001b[0;34m\u001b[0m\u001b[0m\n\u001b[0m\u001b[1;32m    374\u001b[0m     \u001b[0;32mreturn\u001b[0m \u001b[0;36m0\u001b[0m\u001b[0;34m\u001b[0m\u001b[0;34m\u001b[0m\u001b[0m\n\u001b[1;32m    375\u001b[0m \u001b[0;34m\u001b[0m\u001b[0m\n",
      "\u001b[0;31mCalledProcessError\u001b[0m: Command '['mkfs.vfat', '-F32', '/dev/sda1']' returned non-zero exit status 1."
     ]
    }
   ],
   "source": [
    "\"\"\"\n",
    "umount /dev/sdb1\n",
    "mkfs.vfat -F32 /dev/sdb1\n",
    "\n",
    "sudo parted /dev/sda1 -a optimal /dev/usb mkpart primary 0% 4096MB\n",
    "\n",
    "sudo parted -s /dev/sda1 -- mklabel msdos \\\n",
    "    mkpart primary fat32 0.0 -1s \\\n",
    "    \n",
    "\"\"\"\n",
    "# check_call([\"mkfs.vfat\", \"-F32\", \"/dev/sda1\"])\n"
   ]
  },
  {
   "cell_type": "code",
   "execution_count": 79,
   "id": "aa346096",
   "metadata": {},
   "outputs": [
    {
     "name": "stdout",
     "output_type": "stream",
     "text": [
      "sdiskpart(device='/dev/nvme0n1p6', mountpoint='/', fstype='ext4', opts='rw,relatime,errors=remount-ro', maxfile=255, maxpath=4096)\n",
      "sdiskpart(device='/dev/nvme0n1p1', mountpoint='/boot/efi', fstype='vfat', opts='rw,relatime,fmask=0077,dmask=0077,codepage=437,iocharset=iso8859-1,shortname=mixed,errors=remount-ro', maxfile=1530, maxpath=4096)\n",
      "sdiskpart(device='/dev/nvme0n1p8', mountpoint='/home', fstype='ext4', opts='rw,relatime', maxfile=255, maxpath=4096)\n",
      "sdiskpart(device='/dev/nvme0n1p8', mountpoint='/run/timeshift/backup', fstype='ext4', opts='rw,relatime', maxfile=255, maxpath=4096)\n",
      "sdiskpart(device='/dev/sda1', mountpoint='/media/pasaunier/55AA-55AA', fstype='fuseblk', opts='rw,nosuid,nodev,relatime,user_id=0,group_id=0,default_permissions,allow_other,blksize=4096', maxfile=255, maxpath=4096)\n"
     ]
    }
   ],
   "source": [
    "for elem in psutil.disk_partitions(all=False):\n",
    "    print(elem)"
   ]
  }
 ],
 "metadata": {
  "kernelspec": {
   "display_name": "Python 3",
   "language": "python",
   "name": "python3"
  },
  "language_info": {
   "codemirror_mode": {
    "name": "ipython",
    "version": 3
   },
   "file_extension": ".py",
   "mimetype": "text/x-python",
   "name": "python",
   "nbconvert_exporter": "python",
   "pygments_lexer": "ipython3",
   "version": "3.9.4"
  }
 },
 "nbformat": 4,
 "nbformat_minor": 5
}
